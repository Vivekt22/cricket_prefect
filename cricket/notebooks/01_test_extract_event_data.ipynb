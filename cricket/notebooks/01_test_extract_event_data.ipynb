{
 "cells": [
  {
   "cell_type": "code",
   "execution_count": 45,
   "metadata": {},
   "outputs": [],
   "source": [
    "from pathlib import Path\n",
    "import polars as pl\n",
    "from polars import col, lit, when\n",
    "import polars.selectors as cs\n",
    "import orjson\n",
    "import yaml\n",
    "\n",
    "from cricket.conf.conf import Conf\n",
    "from cricket.functions.functions import Functions as F"
   ]
  },
  {
   "cell_type": "code",
   "execution_count": 2,
   "metadata": {},
   "outputs": [],
   "source": [
    "filepath = str(Conf.catalog.processed.cricket_dataset)"
   ]
  },
  {
   "cell_type": "code",
   "execution_count": 29,
   "metadata": {},
   "outputs": [
    {
     "data": {
      "text/plain": [
       "┌─────────────┬──────────┬────────────┬─────────────┬──────────────┬──────────────┬──────────┬─────────────────┬────────────────────┬────────────────────┬────────────┬──────────┬───────┬───────┬─────────┬─────────────┬────────────┬────────────┬───────┬───────┬─────────────┬───────────┬───────────┬────────────────┬───────────────┬───────────┬──────────────────┬────────────────┬────────────┬─────────┬───────────────────┬──────────────┬─────────┬────────────┬──────────────┬─────────────────┬──────────────┬──────────┬───────────────┬──────────────┬──────────────────────────────────┬───────────────────────────────┬───────────────┬───────────────┬────────────────────┬──────────────┐\n",
       "│ delivery_id │ match_id │ innings_id │   innings   │ batting_team │ bowling_team │ declared │     bowler      │       batter       │    non_striker     │ player_out │ delivery │ over  │ ball  │ wickets │ batter_runs │ extra_runs │ total_runs │  six  │ four  │ wicket_type │ batter_id │ bowler_id │ non_striker_id │ player_out_id │   city    │ match_start_date │ match_end_date │ match_type │ gender  │     umpire_1      │   umpire_2   │ win_by  │ win_margin │    winner    │ player_of_match │    team1     │  team2   │ toss_decision │ toss_winner  │              venue               │             event             │    league     │ batter_number │ non_striker_number │ wickets_down │\n",
       "│   uint32    │ varchar  │  varchar   │   varchar   │   varchar    │   varchar    │  int64   │     varchar     │      varchar       │      varchar       │  varchar   │  double  │ int64 │ int64 │  int32  │    int64    │   int64    │   int64    │ int32 │ int32 │   varchar   │  varchar  │  varchar  │    varchar     │    varchar    │  varchar  │       date       │      date      │  varchar   │ varchar │      varchar      │   varchar    │ varchar │   double   │   varchar    │     varchar     │   varchar    │ varchar  │    varchar    │   varchar    │             varchar              │            varchar            │    varchar    │    uint32     │       uint32       │    int32     │\n",
       "├─────────────┼──────────┼────────────┼─────────────┼──────────────┼──────────────┼──────────┼─────────────────┼────────────────────┼────────────────────┼────────────┼──────────┼───────┼───────┼─────────┼─────────────┼────────────┼────────────┼───────┼───────┼─────────────┼───────────┼───────────┼────────────────┼───────────────┼───────────┼──────────────────┼────────────────┼────────────┼─────────┼───────────────────┼──────────────┼─────────┼────────────┼──────────────┼─────────────────┼──────────────┼──────────┼───────────────┼──────────────┼──────────────────────────────────┼───────────────────────────────┼───────────────┼───────────────┼────────────────────┼──────────────┤\n",
       "│           1 │ 63963    │ 63963_1    │ 1st innings │ England      │ India        │        0 │ Javagal Srinath │ Mark Butcher       │ Marcus Trescothick │            │      0.1 │     1 │     1 │       1 │           0 │          0 │          0 │     0 │     0 │             │ 8fb88ee3  │ bad31fac  │ ea42ddb9       │ NULL          │ Bengaluru │ 2001-12-19       │ 2001-12-23     │ Test       │ male    │ AV Jayaprakash    │ EAR de Silva │ NULL    │        0.0 │ NULL         │ A Flintoff      │ England      │ India    │ bat           │ England      │ M Chinnaswamy Stadium, Bangalore │ England tour of India         │ International │             1 │                  2 │            1 │\n",
       "│           2 │ 63963    │ 63963_1    │ 1st innings │ England      │ India        │        0 │ Javagal Srinath │ Mark Butcher       │ Marcus Trescothick │            │      0.2 │     1 │     2 │       1 │           0 │          0 │          0 │     0 │     0 │             │ 8fb88ee3  │ bad31fac  │ ea42ddb9       │ NULL          │ Bengaluru │ 2001-12-19       │ 2001-12-23     │ Test       │ male    │ AV Jayaprakash    │ EAR de Silva │ NULL    │        0.0 │ NULL         │ A Flintoff      │ England      │ India    │ bat           │ England      │ M Chinnaswamy Stadium, Bangalore │ England tour of India         │ International │             1 │                  2 │            2 │\n",
       "│           3 │ 63963    │ 63963_1    │ 1st innings │ England      │ India        │        0 │ Javagal Srinath │ Mark Butcher       │ Marcus Trescothick │            │      0.3 │     1 │     3 │       1 │           0 │          0 │          0 │     0 │     0 │             │ 8fb88ee3  │ bad31fac  │ ea42ddb9       │ NULL          │ Bengaluru │ 2001-12-19       │ 2001-12-23     │ Test       │ male    │ AV Jayaprakash    │ EAR de Silva │ NULL    │        0.0 │ NULL         │ A Flintoff      │ England      │ India    │ bat           │ England      │ M Chinnaswamy Stadium, Bangalore │ England tour of India         │ International │             1 │                  2 │            3 │\n",
       "│           4 │ 63963    │ 63963_1    │ 1st innings │ England      │ India        │        0 │ Javagal Srinath │ Mark Butcher       │ Marcus Trescothick │            │      0.4 │     1 │     4 │       1 │           0 │          0 │          0 │     0 │     0 │             │ 8fb88ee3  │ bad31fac  │ ea42ddb9       │ NULL          │ Bengaluru │ 2001-12-19       │ 2001-12-23     │ Test       │ male    │ AV Jayaprakash    │ EAR de Silva │ NULL    │        0.0 │ NULL         │ A Flintoff      │ England      │ India    │ bat           │ England      │ M Chinnaswamy Stadium, Bangalore │ England tour of India         │ International │             1 │                  2 │            4 │\n",
       "│           5 │ 63963    │ 63963_1    │ 1st innings │ England      │ India        │        0 │ Javagal Srinath │ Mark Butcher       │ Marcus Trescothick │            │      0.5 │     1 │     5 │       1 │           1 │          0 │          1 │     0 │     0 │             │ 8fb88ee3  │ bad31fac  │ ea42ddb9       │ NULL          │ Bengaluru │ 2001-12-19       │ 2001-12-23     │ Test       │ male    │ AV Jayaprakash    │ EAR de Silva │ NULL    │        0.0 │ NULL         │ A Flintoff      │ England      │ India    │ bat           │ England      │ M Chinnaswamy Stadium, Bangalore │ England tour of India         │ International │             1 │                  2 │            5 │\n",
       "│           6 │ 63963    │ 63963_1    │ 1st innings │ England      │ India        │        0 │ Javagal Srinath │ Marcus Trescothick │ Mark Butcher       │            │      0.6 │     1 │     6 │       1 │           2 │          0 │          2 │     0 │     0 │             │ ea42ddb9  │ bad31fac  │ 8fb88ee3       │ NULL          │ Bengaluru │ 2001-12-19       │ 2001-12-23     │ Test       │ male    │ AV Jayaprakash    │ EAR de Silva │ NULL    │        0.0 │ NULL         │ A Flintoff      │ England      │ India    │ bat           │ England      │ M Chinnaswamy Stadium, Bangalore │ England tour of India         │ International │             2 │                  1 │            6 │\n",
       "│           7 │ 63963    │ 63963_1    │ 1st innings │ England      │ India        │        0 │ Sourav Ganguly  │ Mark Butcher       │ Marcus Trescothick │            │      1.1 │     2 │     1 │       1 │           0 │          0 │          0 │     0 │     0 │             │ 8fb88ee3  │ 725529bc  │ ea42ddb9       │ NULL          │ Bengaluru │ 2001-12-19       │ 2001-12-23     │ Test       │ male    │ AV Jayaprakash    │ EAR de Silva │ NULL    │        0.0 │ NULL         │ A Flintoff      │ England      │ India    │ bat           │ England      │ M Chinnaswamy Stadium, Bangalore │ England tour of India         │ International │             1 │                  2 │            7 │\n",
       "│           8 │ 63963    │ 63963_1    │ 1st innings │ England      │ India        │        0 │ Sourav Ganguly  │ Mark Butcher       │ Marcus Trescothick │            │      1.2 │     2 │     2 │       1 │           4 │          0 │          4 │     0 │     1 │             │ 8fb88ee3  │ 725529bc  │ ea42ddb9       │ NULL          │ Bengaluru │ 2001-12-19       │ 2001-12-23     │ Test       │ male    │ AV Jayaprakash    │ EAR de Silva │ NULL    │        0.0 │ NULL         │ A Flintoff      │ England      │ India    │ bat           │ England      │ M Chinnaswamy Stadium, Bangalore │ England tour of India         │ International │             1 │                  2 │            8 │\n",
       "│           9 │ 63963    │ 63963_1    │ 1st innings │ England      │ India        │        0 │ Sourav Ganguly  │ Mark Butcher       │ Marcus Trescothick │            │      1.3 │     2 │     3 │       1 │           0 │          0 │          0 │     0 │     0 │             │ 8fb88ee3  │ 725529bc  │ ea42ddb9       │ NULL          │ Bengaluru │ 2001-12-19       │ 2001-12-23     │ Test       │ male    │ AV Jayaprakash    │ EAR de Silva │ NULL    │        0.0 │ NULL         │ A Flintoff      │ England      │ India    │ bat           │ England      │ M Chinnaswamy Stadium, Bangalore │ England tour of India         │ International │             1 │                  2 │            9 │\n",
       "│          10 │ 63963    │ 63963_1    │ 1st innings │ England      │ India        │        0 │ Sourav Ganguly  │ Mark Butcher       │ Marcus Trescothick │            │      1.4 │     2 │     4 │       1 │           0 │          0 │          0 │     0 │     0 │             │ 8fb88ee3  │ 725529bc  │ ea42ddb9       │ NULL          │ Bengaluru │ 2001-12-19       │ 2001-12-23     │ Test       │ male    │ AV Jayaprakash    │ EAR de Silva │ NULL    │        0.0 │ NULL         │ A Flintoff      │ England      │ India    │ bat           │ England      │ M Chinnaswamy Stadium, Bangalore │ England tour of India         │ International │             1 │                  2 │           10 │\n",
       "│           · │   ·      │    ·       │      ·      │    ·         │   ·          │        · │       ·         │      ·             │      ·             │     ·      │       ·  │     · │     · │       · │           · │          · │          · │     · │     · │      ·      │    ·      │    ·      │    ·           │  ·            │     ·     │     ·            │     ·          │  ·         │  ·      │       ·           │     ·        │  ·      │         ·  │  ·           │    ·            │    ·         │   ·      │  ·            │    ·         │          ·                       │           ·                   │       ·       │             · │                  · │            · │\n",
       "│           · │   ·      │    ·       │      ·      │    ·         │   ·          │        · │       ·         │      ·             │      ·             │     ·      │       ·  │     · │     · │       · │           · │          · │          · │     · │     · │      ·      │    ·      │    ·      │    ·           │  ·            │     ·     │     ·            │     ·          │  ·         │  ·      │       ·           │     ·        │  ·      │         ·  │  ·           │    ·            │    ·         │   ·      │  ·            │    ·         │          ·                       │           ·                   │       ·       │             · │                  · │            · │\n",
       "│           · │   ·      │    ·       │      ·      │    ·         │   ·          │        · │       ·         │      ·             │      ·             │     ·      │       ·  │     · │     · │       · │           · │          · │          · │     · │     · │      ·      │    ·      │    ·      │    ·           │  ·            │     ·     │     ·            │     ·          │  ·         │  ·      │       ·           │     ·        │  ·      │         ·  │  ·           │    ·            │    ·         │   ·      │  ·            │    ·         │          ·                       │           ·                   │       ·       │             · │                  · │            · │\n",
       "│        9991 │ 64023    │ 64023_3    │ 3rd innings │ Pakistan     │ South Africa │        0 │ Shaun Pollock   │ Taufeeq Umar       │ Younis Khan        │            │      4.6 │     5 │     6 │       1 │           0 │          0 │          0 │     0 │     0 │             │ c73bb037  │ 88fccd6c  │ 33cb3411       │ NULL          │ Cape Town │ 2003-01-02       │ 2003-01-05     │ Test       │ male    │ S Venkataraghavan │ SA Bucknor   │ innings │        1.0 │ South Africa │ HH Gibbs        │ South Africa │ Pakistan │ bat           │ South Africa │ Newlands, Cape Town              │ Pakistan tour of South Africa │ International │             1 │                  3 │           31 │\n",
       "│        9992 │ 64023    │ 64023_3    │ 3rd innings │ Pakistan     │ South Africa │        0 │ Makhaya Ntini   │ Younis Khan        │ Taufeeq Umar       │            │      5.1 │     6 │     1 │       1 │           1 │          0 │          1 │     0 │     0 │             │ 33cb3411  │ 20a941bb  │ c73bb037       │ NULL          │ Cape Town │ 2003-01-02       │ 2003-01-05     │ Test       │ male    │ S Venkataraghavan │ SA Bucknor   │ innings │        1.0 │ South Africa │ HH Gibbs        │ South Africa │ Pakistan │ bat           │ South Africa │ Newlands, Cape Town              │ Pakistan tour of South Africa │ International │             3 │                  1 │           32 │\n",
       "│        9993 │ 64023    │ 64023_3    │ 3rd innings │ Pakistan     │ South Africa │        0 │ Makhaya Ntini   │ Taufeeq Umar       │ Younis Khan        │            │      5.2 │     6 │     2 │       1 │           0 │          0 │          0 │     0 │     0 │             │ c73bb037  │ 20a941bb  │ 33cb3411       │ NULL          │ Cape Town │ 2003-01-02       │ 2003-01-05     │ Test       │ male    │ S Venkataraghavan │ SA Bucknor   │ innings │        1.0 │ South Africa │ HH Gibbs        │ South Africa │ Pakistan │ bat           │ South Africa │ Newlands, Cape Town              │ Pakistan tour of South Africa │ International │             1 │                  3 │           33 │\n",
       "│        9994 │ 64023    │ 64023_3    │ 3rd innings │ Pakistan     │ South Africa │        0 │ Makhaya Ntini   │ Taufeeq Umar       │ Younis Khan        │            │      5.3 │     6 │     3 │       1 │           2 │          0 │          2 │     0 │     0 │             │ c73bb037  │ 20a941bb  │ 33cb3411       │ NULL          │ Cape Town │ 2003-01-02       │ 2003-01-05     │ Test       │ male    │ S Venkataraghavan │ SA Bucknor   │ innings │        1.0 │ South Africa │ HH Gibbs        │ South Africa │ Pakistan │ bat           │ South Africa │ Newlands, Cape Town              │ Pakistan tour of South Africa │ International │             1 │                  3 │           34 │\n",
       "│        9995 │ 64023    │ 64023_3    │ 3rd innings │ Pakistan     │ South Africa │        0 │ Makhaya Ntini   │ Taufeeq Umar       │ Younis Khan        │            │      5.4 │     6 │     4 │       1 │           0 │          0 │          0 │     0 │     0 │             │ c73bb037  │ 20a941bb  │ 33cb3411       │ NULL          │ Cape Town │ 2003-01-02       │ 2003-01-05     │ Test       │ male    │ S Venkataraghavan │ SA Bucknor   │ innings │        1.0 │ South Africa │ HH Gibbs        │ South Africa │ Pakistan │ bat           │ South Africa │ Newlands, Cape Town              │ Pakistan tour of South Africa │ International │             1 │                  3 │           35 │\n",
       "│        9996 │ 64023    │ 64023_3    │ 3rd innings │ Pakistan     │ South Africa │        0 │ Makhaya Ntini   │ Taufeeq Umar       │ Younis Khan        │            │      5.5 │     6 │     5 │       1 │           0 │          0 │          0 │     0 │     0 │             │ c73bb037  │ 20a941bb  │ 33cb3411       │ NULL          │ Cape Town │ 2003-01-02       │ 2003-01-05     │ Test       │ male    │ S Venkataraghavan │ SA Bucknor   │ innings │        1.0 │ South Africa │ HH Gibbs        │ South Africa │ Pakistan │ bat           │ South Africa │ Newlands, Cape Town              │ Pakistan tour of South Africa │ International │             1 │                  3 │           36 │\n",
       "│        9997 │ 64023    │ 64023_3    │ 3rd innings │ Pakistan     │ South Africa │        0 │ Makhaya Ntini   │ Taufeeq Umar       │ Younis Khan        │            │      5.6 │     6 │     6 │       1 │           0 │          0 │          0 │     0 │     0 │             │ c73bb037  │ 20a941bb  │ 33cb3411       │ NULL          │ Cape Town │ 2003-01-02       │ 2003-01-05     │ Test       │ male    │ S Venkataraghavan │ SA Bucknor   │ innings │        1.0 │ South Africa │ HH Gibbs        │ South Africa │ Pakistan │ bat           │ South Africa │ Newlands, Cape Town              │ Pakistan tour of South Africa │ International │             1 │                  3 │           37 │\n",
       "│        9998 │ 64023    │ 64023_3    │ 3rd innings │ Pakistan     │ South Africa │        0 │ Shaun Pollock   │ Younis Khan        │ Taufeeq Umar       │            │      6.1 │     7 │     1 │       1 │           0 │          0 │          0 │     0 │     0 │             │ 33cb3411  │ 88fccd6c  │ c73bb037       │ NULL          │ Cape Town │ 2003-01-02       │ 2003-01-05     │ Test       │ male    │ S Venkataraghavan │ SA Bucknor   │ innings │        1.0 │ South Africa │ HH Gibbs        │ South Africa │ Pakistan │ bat           │ South Africa │ Newlands, Cape Town              │ Pakistan tour of South Africa │ International │             3 │                  1 │           38 │\n",
       "│        9999 │ 64023    │ 64023_3    │ 3rd innings │ Pakistan     │ South Africa │        0 │ Shaun Pollock   │ Younis Khan        │ Taufeeq Umar       │            │      6.2 │     7 │     2 │       1 │           0 │          0 │          0 │     0 │     0 │             │ 33cb3411  │ 88fccd6c  │ c73bb037       │ NULL          │ Cape Town │ 2003-01-02       │ 2003-01-05     │ Test       │ male    │ S Venkataraghavan │ SA Bucknor   │ innings │        1.0 │ South Africa │ HH Gibbs        │ South Africa │ Pakistan │ bat           │ South Africa │ Newlands, Cape Town              │ Pakistan tour of South Africa │ International │             3 │                  1 │           39 │\n",
       "│       10000 │ 64023    │ 64023_3    │ 3rd innings │ Pakistan     │ South Africa │        0 │ Shaun Pollock   │ Younis Khan        │ Taufeeq Umar       │            │      6.3 │     7 │     3 │       1 │           1 │          0 │          1 │     0 │     0 │             │ 33cb3411  │ 88fccd6c  │ c73bb037       │ NULL          │ Cape Town │ 2003-01-02       │ 2003-01-05     │ Test       │ male    │ S Venkataraghavan │ SA Bucknor   │ innings │        1.0 │ South Africa │ HH Gibbs        │ South Africa │ Pakistan │ bat           │ South Africa │ Newlands, Cape Town              │ Pakistan tour of South Africa │ International │             3 │                  1 │           40 │\n",
       "├─────────────┴──────────┴────────────┴─────────────┴──────────────┴──────────────┴──────────┴─────────────────┴────────────────────┴────────────────────┴────────────┴──────────┴───────┴───────┴─────────┴─────────────┴────────────┴────────────┴───────┴───────┴─────────────┴───────────┴───────────┴────────────────┴───────────────┴───────────┴──────────────────┴────────────────┴────────────┴─────────┴───────────────────┴──────────────┴─────────┴────────────┴──────────────┴─────────────────┴──────────────┴──────────┴───────────────┴──────────────┴──────────────────────────────────┴───────────────────────────────┴───────────────┴───────────────┴────────────────────┴──────────────┤\n",
       "│ ? rows (>9999 rows, 20 shown)                                                                                                                                                                                                                                                                                                                                                                                                                                                                                                                                                                                                                                                                  46 columns │\n",
       "└───────────────────────────────────────────────────────────────────────────────────────────────────────────────────────────────────────────────────────────────────────────────────────────────────────────────────────────────────────────────────────────────────────────────────────────────────────────────────────────────────────────────────────────────────────────────────────────────────────────────────────────────────────────────────────────────────────────────────────────────────────────────────────────────────────────────────────────────────────────────────────────────────────────────────────────────────────────────────────────────────────────────────────────────────────────┘"
      ]
     },
     "execution_count": 29,
     "metadata": {},
     "output_type": "execute_result"
    }
   ],
   "source": [
    "F.sql(f\"select * from read_parquet('{filepath}')\").to_view('t1')"
   ]
  },
  {
   "cell_type": "code",
   "execution_count": 30,
   "metadata": {},
   "outputs": [
    {
     "data": {
      "text/plain": [
       "┌────────────┬──────────────────────────────────────────────┐\n",
       "│ match_type │                    event                     │\n",
       "│  varchar   │                   varchar                    │\n",
       "├────────────┼──────────────────────────────────────────────┤\n",
       "│ ODI        │ ICC World Cup                                │\n",
       "│ ODI        │ ICC World Cup Qualifiers                     │\n",
       "│ ODI        │ ICC Men's Cricket World Cup Super League     │\n",
       "│ ODI        │ World Cup                                    │\n",
       "│ ODI        │ ICC Cricket World Cup Qualifier              │\n",
       "│ ODI        │ ICC Cricket World Cup Qualifier Play-off     │\n",
       "│ ODI        │ ICC Men's Cricket World Cup League 2         │\n",
       "│ ODI        │ ICC Cricket World Cup Qualifier (ICC Trophy) │\n",
       "│ ODI        │ ICC Cricket World Cup                        │\n",
       "└────────────┴──────────────────────────────────────────────┘"
      ]
     },
     "execution_count": 30,
     "metadata": {},
     "output_type": "execute_result"
    }
   ],
   "source": [
    "F.sql(\n",
    "    f\"\"\"\n",
    "    select\n",
    "        distinct\n",
    "        match_type,\n",
    "        event\n",
    "\n",
    "    from t1\n",
    "    where\n",
    "        gender = 'male'\n",
    "        and event.lower().contains('world')\n",
    "        and event.lower().contains('cup')\n",
    "        and match_type = 'ODI'\n",
    "    \"\"\"\n",
    ")"
   ]
  },
  {
   "cell_type": "code",
   "execution_count": 39,
   "metadata": {},
   "outputs": [
    {
     "data": {
      "text/plain": [
       "┌─────────────┬──────────┬────────────┬─────────────┬──────────────┬──────────────┬──────────┬──────────────────────┬─────────────────┬─────────────────┬────────────┬──────────┬───────┬───────┬─────────┬─────────────┬────────────┬────────────┬───────┬───────┬─────────────┬───────────┬───────────┬────────────────┬───────────────┬────────────┬──────────────────┬────────────────┬────────────┬─────────┬────────────────┬──────────────┬─────────┬────────────┬────────────┬───────────────────┬─────────────┬────────────┬───────────────┬─────────────┬───────────────────────────────┬──────────────────────────────────────────┬───────────────┬───────────────┬────────────────────┬──────────────┐\n",
       "│ delivery_id │ match_id │ innings_id │   innings   │ batting_team │ bowling_team │ declared │        bowler        │     batter      │   non_striker   │ player_out │ delivery │ over  │ ball  │ wickets │ batter_runs │ extra_runs │ total_runs │  six  │ four  │ wicket_type │ batter_id │ bowler_id │ non_striker_id │ player_out_id │    city    │ match_start_date │ match_end_date │ match_type │ gender  │    umpire_1    │   umpire_2   │ win_by  │ win_margin │   winner   │  player_of_match  │    team1    │   team2    │ toss_decision │ toss_winner │             venue             │                  event                   │    league     │ batter_number │ non_striker_number │ wickets_down │\n",
       "│   uint32    │ varchar  │  varchar   │   varchar   │   varchar    │   varchar    │  int64   │       varchar        │     varchar     │     varchar     │  varchar   │  double  │ int64 │ int64 │  int32  │    int64    │   int64    │   int64    │ int32 │ int32 │   varchar   │  varchar  │  varchar  │    varchar     │    varchar    │  varchar   │       date       │      date      │  varchar   │ varchar │    varchar     │   varchar    │ varchar │   double   │  varchar   │      varchar      │   varchar   │  varchar   │    varchar    │   varchar   │            varchar            │                 varchar                  │    varchar    │    uint32     │       uint32       │    int32     │\n",
       "├─────────────┼──────────┼────────────┼─────────────┼──────────────┼──────────────┼──────────┼──────────────────────┼─────────────────┼─────────────────┼────────────┼──────────┼───────┼───────┼─────────┼─────────────┼────────────┼────────────┼───────┼───────┼─────────────┼───────────┼───────────┼────────────────┼───────────────┼────────────┼──────────────────┼────────────────┼────────────┼─────────┼────────────────┼──────────────┼─────────┼────────────┼────────────┼───────────────────┼─────────────┼────────────┼───────────────┼─────────────┼───────────────────────────────┼──────────────────────────────────────────┼───────────────┼───────────────┼────────────────────┼──────────────┤\n",
       "│     5968342 │ 1244022  │ 1244022_1  │ 1st innings │ West Indies  │ Bangladesh   │        0 │ Rubel Hossain        │ Sunil Ambris    │ Joshua Da Silva │            │      0.1 │     1 │     1 │       1 │           0 │          0 │          0 │     0 │     0 │             │ c7f6dd3b  │ f56cd097  │ bab78fa2       │ NULL          │ Dhaka      │ 2021-01-20       │ 2021-01-20     │ ODI        │ male    │ Masudur Rahman │ Sharfuddoula │ wickets │        6.0 │ Bangladesh │ Shakib Al Hasan   │ West Indies │ Bangladesh │ field         │ Bangladesh  │ Shere Bangla National Stadium │ ICC Men's Cricket World Cup Super League │ International │             1 │                  2 │            1 │\n",
       "│     5968343 │ 1244022  │ 1244022_1  │ 1st innings │ West Indies  │ Bangladesh   │        0 │ Rubel Hossain        │ Sunil Ambris    │ Joshua Da Silva │            │      0.2 │     1 │     2 │       1 │           1 │          0 │          1 │     0 │     0 │             │ c7f6dd3b  │ f56cd097  │ bab78fa2       │ NULL          │ Dhaka      │ 2021-01-20       │ 2021-01-20     │ ODI        │ male    │ Masudur Rahman │ Sharfuddoula │ wickets │        6.0 │ Bangladesh │ Shakib Al Hasan   │ West Indies │ Bangladesh │ field         │ Bangladesh  │ Shere Bangla National Stadium │ ICC Men's Cricket World Cup Super League │ International │             1 │                  2 │            2 │\n",
       "│     5968344 │ 1244022  │ 1244022_1  │ 1st innings │ West Indies  │ Bangladesh   │        0 │ Rubel Hossain        │ Joshua Da Silva │ Sunil Ambris    │            │      0.3 │     1 │     3 │       1 │           0 │          0 │          0 │     0 │     0 │             │ bab78fa2  │ f56cd097  │ c7f6dd3b       │ NULL          │ Dhaka      │ 2021-01-20       │ 2021-01-20     │ ODI        │ male    │ Masudur Rahman │ Sharfuddoula │ wickets │        6.0 │ Bangladesh │ Shakib Al Hasan   │ West Indies │ Bangladesh │ field         │ Bangladesh  │ Shere Bangla National Stadium │ ICC Men's Cricket World Cup Super League │ International │             2 │                  1 │            3 │\n",
       "│     5968345 │ 1244022  │ 1244022_1  │ 1st innings │ West Indies  │ Bangladesh   │        0 │ Rubel Hossain        │ Joshua Da Silva │ Sunil Ambris    │            │      0.4 │     1 │     4 │       1 │           1 │          0 │          1 │     0 │     0 │             │ bab78fa2  │ f56cd097  │ c7f6dd3b       │ NULL          │ Dhaka      │ 2021-01-20       │ 2021-01-20     │ ODI        │ male    │ Masudur Rahman │ Sharfuddoula │ wickets │        6.0 │ Bangladesh │ Shakib Al Hasan   │ West Indies │ Bangladesh │ field         │ Bangladesh  │ Shere Bangla National Stadium │ ICC Men's Cricket World Cup Super League │ International │             2 │                  1 │            4 │\n",
       "│     5968346 │ 1244022  │ 1244022_1  │ 1st innings │ West Indies  │ Bangladesh   │        0 │ Rubel Hossain        │ Sunil Ambris    │ Joshua Da Silva │            │      0.5 │     1 │     5 │       1 │           0 │          0 │          0 │     0 │     0 │             │ c7f6dd3b  │ f56cd097  │ bab78fa2       │ NULL          │ Dhaka      │ 2021-01-20       │ 2021-01-20     │ ODI        │ male    │ Masudur Rahman │ Sharfuddoula │ wickets │        6.0 │ Bangladesh │ Shakib Al Hasan   │ West Indies │ Bangladesh │ field         │ Bangladesh  │ Shere Bangla National Stadium │ ICC Men's Cricket World Cup Super League │ International │             1 │                  2 │            5 │\n",
       "│     5968347 │ 1244022  │ 1244022_1  │ 1st innings │ West Indies  │ Bangladesh   │        0 │ Rubel Hossain        │ Sunil Ambris    │ Joshua Da Silva │            │      0.6 │     1 │     6 │       1 │           6 │          0 │          6 │     1 │     0 │             │ c7f6dd3b  │ f56cd097  │ bab78fa2       │ NULL          │ Dhaka      │ 2021-01-20       │ 2021-01-20     │ ODI        │ male    │ Masudur Rahman │ Sharfuddoula │ wickets │        6.0 │ Bangladesh │ Shakib Al Hasan   │ West Indies │ Bangladesh │ field         │ Bangladesh  │ Shere Bangla National Stadium │ ICC Men's Cricket World Cup Super League │ International │             1 │                  2 │            6 │\n",
       "│     5968348 │ 1244022  │ 1244022_1  │ 1st innings │ West Indies  │ Bangladesh   │        0 │ Mustafizur Rahman    │ Joshua Da Silva │ Sunil Ambris    │            │      1.1 │     2 │     1 │       1 │           1 │          0 │          1 │     0 │     0 │             │ bab78fa2  │ 0a8fce53  │ c7f6dd3b       │ NULL          │ Dhaka      │ 2021-01-20       │ 2021-01-20     │ ODI        │ male    │ Masudur Rahman │ Sharfuddoula │ wickets │        6.0 │ Bangladesh │ Shakib Al Hasan   │ West Indies │ Bangladesh │ field         │ Bangladesh  │ Shere Bangla National Stadium │ ICC Men's Cricket World Cup Super League │ International │             2 │                  1 │            7 │\n",
       "│     5968350 │ 1244022  │ 1244022_1  │ 1st innings │ West Indies  │ Bangladesh   │        0 │ Mustafizur Rahman    │ Andre McCarthy  │ Joshua Da Silva │            │      1.3 │     2 │     3 │       1 │           0 │          0 │          0 │     0 │     0 │             │ 7f148ce7  │ 0a8fce53  │ bab78fa2       │ NULL          │ Dhaka      │ 2021-01-20       │ 2021-01-20     │ ODI        │ male    │ Masudur Rahman │ Sharfuddoula │ wickets │        6.0 │ Bangladesh │ Shakib Al Hasan   │ West Indies │ Bangladesh │ field         │ Bangladesh  │ Shere Bangla National Stadium │ ICC Men's Cricket World Cup Super League │ International │             3 │                  2 │            9 │\n",
       "│     5968351 │ 1244022  │ 1244022_1  │ 1st innings │ West Indies  │ Bangladesh   │        0 │ Mustafizur Rahman    │ Andre McCarthy  │ Joshua Da Silva │            │      1.4 │     2 │     4 │       1 │           1 │          0 │          1 │     0 │     0 │             │ 7f148ce7  │ 0a8fce53  │ bab78fa2       │ NULL          │ Dhaka      │ 2021-01-20       │ 2021-01-20     │ ODI        │ male    │ Masudur Rahman │ Sharfuddoula │ wickets │        6.0 │ Bangladesh │ Shakib Al Hasan   │ West Indies │ Bangladesh │ field         │ Bangladesh  │ Shere Bangla National Stadium │ ICC Men's Cricket World Cup Super League │ International │             3 │                  2 │           10 │\n",
       "│     5968352 │ 1244022  │ 1244022_1  │ 1st innings │ West Indies  │ Bangladesh   │        0 │ Mustafizur Rahman    │ Joshua Da Silva │ Andre McCarthy  │            │      1.5 │     2 │     5 │       1 │           0 │          0 │          0 │     0 │     0 │             │ bab78fa2  │ 0a8fce53  │ 7f148ce7       │ NULL          │ Dhaka      │ 2021-01-20       │ 2021-01-20     │ ODI        │ male    │ Masudur Rahman │ Sharfuddoula │ wickets │        6.0 │ Bangladesh │ Shakib Al Hasan   │ West Indies │ Bangladesh │ field         │ Bangladesh  │ Shere Bangla National Stadium │ ICC Men's Cricket World Cup Super League │ International │             2 │                  3 │           11 │\n",
       "│        ·    │    ·     │     ·      │      ·      │    ·         │     ·        │        · │         ·            │      ·          │     ·           │     ·      │       ·  │     · │     · │       · │           · │          · │          · │     · │     · │      ·      │    ·      │    ·      │    ·           │  ·            │   ·        │     ·            │     ·          │  ·         │  ·      │    ·           │    ·         │  ·      │         ·  │     ·      │        ·          │     ·       │    ·       │   ·           │    ·        │             ·                 │                    ·                     │       ·       │             · │                  · │            · │\n",
       "│        ·    │    ·     │     ·      │      ·      │    ·         │     ·        │        · │         ·            │      ·          │     ·           │     ·      │       ·  │     · │     · │       · │           · │          · │          · │     · │     · │      ·      │    ·      │    ·      │    ·           │  ·            │   ·        │     ·            │     ·          │  ·         │  ·      │    ·           │    ·         │  ·      │         ·  │     ·      │        ·          │     ·       │    ·       │   ·           │    ·        │             ·                 │                    ·                     │       ·       │             · │                  · │            · │\n",
       "│        ·    │    ·     │     ·      │      ·      │    ·         │     ·        │        · │         ·            │      ·          │     ·           │     ·      │       ·  │     · │     · │       · │           · │          · │          · │     · │     · │      ·      │    ·      │    ·      │    ·           │  ·            │   ·        │     ·            │     ·          │  ·         │  ·      │    ·           │    ·         │  ·      │         ·  │     ·      │        ·          │     ·       │    ·       │   ·           │    ·        │             ·                 │                    ·                     │       ·       │             · │                  · │            · │\n",
       "│     7915020 │ 1365552  │ 1365552_2  │ 2nd innings │ Ireland      │ Bangladesh   │        0 │ Mrittunjoy Chowdhury │ Andy McBrine    │ Mark Adair      │            │     48.1 │    49 │     1 │       1 │           0 │          0 │          0 │     0 │     0 │             │ e957b38f  │ 21b97584  │ fc55ec67       │ NULL          │ Chelmsford │ 2023-05-14       │ 2023-05-14     │ ODI        │ male    │ MA Gough       │ R Black      │ runs    │        5.0 │ Bangladesh │ Mustafizur Rahman │ Bangladesh  │ Ireland    │ field         │ Ireland     │ County Ground, Chelmsford     │ ICC Men's Cricket World Cup Super League │ International │             8 │                  9 │          298 │\n",
       "│     7915021 │ 1365552  │ 1365552_2  │ 2nd innings │ Ireland      │ Bangladesh   │        0 │ Mrittunjoy Chowdhury │ Andy McBrine    │ Mark Adair      │            │     48.2 │    49 │     2 │       1 │           1 │          0 │          1 │     0 │     0 │             │ e957b38f  │ 21b97584  │ fc55ec67       │ NULL          │ Chelmsford │ 2023-05-14       │ 2023-05-14     │ ODI        │ male    │ MA Gough       │ R Black      │ runs    │        5.0 │ Bangladesh │ Mustafizur Rahman │ Bangladesh  │ Ireland    │ field         │ Ireland     │ County Ground, Chelmsford     │ ICC Men's Cricket World Cup Super League │ International │             8 │                  9 │          299 │\n",
       "│     7915022 │ 1365552  │ 1365552_2  │ 2nd innings │ Ireland      │ Bangladesh   │        0 │ Mrittunjoy Chowdhury │ Mark Adair      │ Andy McBrine    │            │     48.3 │    49 │     3 │       1 │           6 │          0 │          6 │     1 │     0 │             │ fc55ec67  │ 21b97584  │ e957b38f       │ NULL          │ Chelmsford │ 2023-05-14       │ 2023-05-14     │ ODI        │ male    │ MA Gough       │ R Black      │ runs    │        5.0 │ Bangladesh │ Mustafizur Rahman │ Bangladesh  │ Ireland    │ field         │ Ireland     │ County Ground, Chelmsford     │ ICC Men's Cricket World Cup Super League │ International │             9 │                  8 │          300 │\n",
       "│     7915023 │ 1365552  │ 1365552_2  │ 2nd innings │ Ireland      │ Bangladesh   │        0 │ Mrittunjoy Chowdhury │ Mark Adair      │ Andy McBrine    │            │     48.4 │    49 │     4 │       1 │           2 │          0 │          2 │     0 │     0 │             │ fc55ec67  │ 21b97584  │ e957b38f       │ NULL          │ Chelmsford │ 2023-05-14       │ 2023-05-14     │ ODI        │ male    │ MA Gough       │ R Black      │ runs    │        5.0 │ Bangladesh │ Mustafizur Rahman │ Bangladesh  │ Ireland    │ field         │ Ireland     │ County Ground, Chelmsford     │ ICC Men's Cricket World Cup Super League │ International │             9 │                  8 │          301 │\n",
       "│     7915024 │ 1365552  │ 1365552_2  │ 2nd innings │ Ireland      │ Bangladesh   │        0 │ Mrittunjoy Chowdhury │ Mark Adair      │ Andy McBrine    │            │     48.5 │    49 │     5 │       1 │           4 │          0 │          4 │     0 │     1 │             │ fc55ec67  │ 21b97584  │ e957b38f       │ NULL          │ Chelmsford │ 2023-05-14       │ 2023-05-14     │ ODI        │ male    │ MA Gough       │ R Black      │ runs    │        5.0 │ Bangladesh │ Mustafizur Rahman │ Bangladesh  │ Ireland    │ field         │ Ireland     │ County Ground, Chelmsford     │ ICC Men's Cricket World Cup Super League │ International │             9 │                  8 │          302 │\n",
       "│     7915025 │ 1365552  │ 1365552_2  │ 2nd innings │ Ireland      │ Bangladesh   │        0 │ Mrittunjoy Chowdhury │ Mark Adair      │ Andy McBrine    │            │     48.6 │    49 │     6 │       1 │           1 │          0 │          1 │     0 │     0 │             │ fc55ec67  │ 21b97584  │ e957b38f       │ NULL          │ Chelmsford │ 2023-05-14       │ 2023-05-14     │ ODI        │ male    │ MA Gough       │ R Black      │ runs    │        5.0 │ Bangladesh │ Mustafizur Rahman │ Bangladesh  │ Ireland    │ field         │ Ireland     │ County Ground, Chelmsford     │ ICC Men's Cricket World Cup Super League │ International │             9 │                  8 │          303 │\n",
       "│     7915027 │ 1365552  │ 1365552_2  │ 2nd innings │ Ireland      │ Bangladesh   │        0 │ Hasan Mahmud         │ Craig Young     │ Andy McBrine    │            │     49.2 │    50 │     2 │       1 │           1 │          0 │          1 │     0 │     0 │             │ bd0a4a7d  │ 80ad39ac  │ e957b38f       │ NULL          │ Chelmsford │ 2023-05-14       │ 2023-05-14     │ ODI        │ male    │ MA Gough       │ R Black      │ runs    │        5.0 │ Bangladesh │ Mustafizur Rahman │ Bangladesh  │ Ireland    │ field         │ Ireland     │ County Ground, Chelmsford     │ ICC Men's Cricket World Cup Super League │ International │            10 │                  8 │          305 │\n",
       "│     7915029 │ 1365552  │ 1365552_2  │ 2nd innings │ Ireland      │ Bangladesh   │        0 │ Hasan Mahmud         │ Josh Little     │ Craig Young     │            │     49.4 │    50 │     4 │       1 │           1 │          0 │          1 │     0 │     0 │             │ 9061a703  │ 80ad39ac  │ bd0a4a7d       │ NULL          │ Chelmsford │ 2023-05-14       │ 2023-05-14     │ ODI        │ male    │ MA Gough       │ R Black      │ runs    │        5.0 │ Bangladesh │ Mustafizur Rahman │ Bangladesh  │ Ireland    │ field         │ Ireland     │ County Ground, Chelmsford     │ ICC Men's Cricket World Cup Super League │ International │            11 │                 10 │          307 │\n",
       "│     7915030 │ 1365552  │ 1365552_2  │ 2nd innings │ Ireland      │ Bangladesh   │        0 │ Hasan Mahmud         │ Craig Young     │ Josh Little     │            │     49.5 │    50 │     5 │       1 │           2 │          0 │          2 │     0 │     0 │             │ bd0a4a7d  │ 80ad39ac  │ 9061a703       │ NULL          │ Chelmsford │ 2023-05-14       │ 2023-05-14     │ ODI        │ male    │ MA Gough       │ R Black      │ runs    │        5.0 │ Bangladesh │ Mustafizur Rahman │ Bangladesh  │ Ireland    │ field         │ Ireland     │ County Ground, Chelmsford     │ ICC Men's Cricket World Cup Super League │ International │            10 │                 11 │          308 │\n",
       "│     7915031 │ 1365552  │ 1365552_2  │ 2nd innings │ Ireland      │ Bangladesh   │        0 │ Hasan Mahmud         │ Craig Young     │ Josh Little     │            │     49.6 │    50 │     6 │       1 │           0 │          0 │          0 │     0 │     0 │             │ bd0a4a7d  │ 80ad39ac  │ 9061a703       │ NULL          │ Chelmsford │ 2023-05-14       │ 2023-05-14     │ ODI        │ male    │ MA Gough       │ R Black      │ runs    │        5.0 │ Bangladesh │ Mustafizur Rahman │ Bangladesh  │ Ireland    │ field         │ Ireland     │ County Ground, Chelmsford     │ ICC Men's Cricket World Cup Super League │ International │            10 │                 11 │          309 │\n",
       "├─────────────┴──────────┴────────────┴─────────────┴──────────────┴──────────────┴──────────┴──────────────────────┴─────────────────┴─────────────────┴────────────┴──────────┴───────┴───────┴─────────┴─────────────┴────────────┴────────────┴───────┴───────┴─────────────┴───────────┴───────────┴────────────────┴───────────────┴────────────┴──────────────────┴────────────────┴────────────┴─────────┴────────────────┴──────────────┴─────────┴────────────┴────────────┴───────────────────┴─────────────┴────────────┴───────────────┴─────────────┴───────────────────────────────┴──────────────────────────────────────────┴───────────────┴───────────────┴────────────────────┴──────────────┤\n",
       "│ 1982 rows (20 shown)                                                                                                                                                                                                                                                                                                                                                                                                                                                                                                                                                                                                                                                                                46 columns │\n",
       "└────────────────────────────────────────────────────────────────────────────────────────────────────────────────────────────────────────────────────────────────────────────────────────────────────────────────────────────────────────────────────────────────────────────────────────────────────────────────────────────────────────────────────────────────────────────────────────────────────────────────────────────────────────────────────────────────────────────────────────────────────────────────────────────────────────────────────────────────────────────────────────────────────────────────────────────────────────────────────────────────────────────────────────────────────────────────┘"
      ]
     },
     "execution_count": 39,
     "metadata": {},
     "output_type": "execute_result"
    }
   ],
   "source": [
    "F.sql(\n",
    "    \"\"\"\n",
    "    select\n",
    "        *\n",
    "\n",
    "    from t1\n",
    "    where\n",
    "        event like '%Cricket World Cup Super League%'\n",
    "        and wicket_type = ''\n",
    "    \"\"\"\n",
    ")"
   ]
  },
  {
   "cell_type": "code",
   "execution_count": 48,
   "metadata": {},
   "outputs": [
    {
     "data": {
      "text/html": [
       "<div><style>\n",
       ".dataframe > thead > tr,\n",
       ".dataframe > tbody > tr {\n",
       "  text-align: right;\n",
       "  white-space: pre-wrap;\n",
       "}\n",
       "</style>\n",
       "<small>shape: (9_374_970, 14)</small><table border=\"1\" class=\"dataframe\"><thead><tr><th>match_id</th><th>innings</th><th>batting_team</th><th>bowling_team</th><th>declared</th><th>delivery</th><th>batter</th><th>bowler</th><th>non_striker</th><th>batter_runs</th><th>extra_runs</th><th>total_runs</th><th>wicket_type</th><th>player_out</th></tr><tr><td>str</td><td>str</td><td>str</td><td>str</td><td>i64</td><td>f64</td><td>str</td><td>str</td><td>str</td><td>i64</td><td>i64</td><td>i64</td><td>str</td><td>str</td></tr></thead><tbody><tr><td>&quot;65252&quot;</td><td>&quot;1st innings&quot;</td><td>&quot;England&quot;</td><td>&quot;Namibia&quot;</td><td>0</td><td>0.1</td><td>&quot;ME Trescothick&quot;</td><td>&quot;G Snyman&quot;</td><td>&quot;NV Knight&quot;</td><td>0</td><td>0</td><td>0</td><td>null</td><td>null</td></tr><tr><td>&quot;65252&quot;</td><td>&quot;1st innings&quot;</td><td>&quot;England&quot;</td><td>&quot;Namibia&quot;</td><td>0</td><td>0.2</td><td>&quot;ME Trescothick&quot;</td><td>&quot;G Snyman&quot;</td><td>&quot;NV Knight&quot;</td><td>0</td><td>0</td><td>0</td><td>null</td><td>null</td></tr><tr><td>&quot;65252&quot;</td><td>&quot;1st innings&quot;</td><td>&quot;England&quot;</td><td>&quot;Namibia&quot;</td><td>0</td><td>0.3</td><td>&quot;ME Trescothick&quot;</td><td>&quot;G Snyman&quot;</td><td>&quot;NV Knight&quot;</td><td>0</td><td>0</td><td>0</td><td>null</td><td>null</td></tr><tr><td>&quot;65252&quot;</td><td>&quot;1st innings&quot;</td><td>&quot;England&quot;</td><td>&quot;Namibia&quot;</td><td>0</td><td>0.4</td><td>&quot;ME Trescothick&quot;</td><td>&quot;G Snyman&quot;</td><td>&quot;NV Knight&quot;</td><td>1</td><td>0</td><td>1</td><td>null</td><td>null</td></tr><tr><td>&quot;65252&quot;</td><td>&quot;1st innings&quot;</td><td>&quot;England&quot;</td><td>&quot;Namibia&quot;</td><td>0</td><td>0.5</td><td>&quot;NV Knight&quot;</td><td>&quot;G Snyman&quot;</td><td>&quot;ME Trescothick&quot;</td><td>0</td><td>0</td><td>0</td><td>null</td><td>null</td></tr><tr><td>&hellip;</td><td>&hellip;</td><td>&hellip;</td><td>&hellip;</td><td>&hellip;</td><td>&hellip;</td><td>&hellip;</td><td>&hellip;</td><td>&hellip;</td><td>&hellip;</td><td>&hellip;</td><td>&hellip;</td><td>&hellip;</td><td>&hellip;</td></tr><tr><td>&quot;1160957&quot;</td><td>&quot;2nd innings&quot;</td><td>&quot;Singapore&quot;</td><td>&quot;Thailand&quot;</td><td>0</td><td>9.5</td><td>&quot;CR Kumarage&quot;</td><td>&quot;N Senamontree&quot;</td><td>&quot;CR Suryawanshi&quot;</td><td>2</td><td>0</td><td>2</td><td>null</td><td>null</td></tr><tr><td>&quot;1160957&quot;</td><td>&quot;2nd innings&quot;</td><td>&quot;Singapore&quot;</td><td>&quot;Thailand&quot;</td><td>0</td><td>9.6</td><td>&quot;CR Kumarage&quot;</td><td>&quot;N Senamontree&quot;</td><td>&quot;CR Suryawanshi&quot;</td><td>0</td><td>0</td><td>0</td><td>null</td><td>null</td></tr><tr><td>&quot;1160957&quot;</td><td>&quot;2nd innings&quot;</td><td>&quot;Singapore&quot;</td><td>&quot;Thailand&quot;</td><td>0</td><td>10.1</td><td>&quot;CR Suryawanshi&quot;</td><td>&quot;P Sungnard&quot;</td><td>&quot;CR Kumarage&quot;</td><td>1</td><td>0</td><td>1</td><td>null</td><td>null</td></tr><tr><td>&quot;1160957&quot;</td><td>&quot;2nd innings&quot;</td><td>&quot;Singapore&quot;</td><td>&quot;Thailand&quot;</td><td>0</td><td>10.2</td><td>&quot;CR Kumarage&quot;</td><td>&quot;P Sungnard&quot;</td><td>&quot;CR Suryawanshi&quot;</td><td>0</td><td>0</td><td>0</td><td>null</td><td>null</td></tr><tr><td>&quot;1160957&quot;</td><td>&quot;2nd innings&quot;</td><td>&quot;Singapore&quot;</td><td>&quot;Thailand&quot;</td><td>0</td><td>10.3</td><td>&quot;CR Kumarage&quot;</td><td>&quot;P Sungnard&quot;</td><td>&quot;CR Suryawanshi&quot;</td><td>6</td><td>0</td><td>6</td><td>null</td><td>null</td></tr></tbody></table></div>"
      ],
      "text/plain": [
       "shape: (9_374_970, 14)\n",
       "┌──────────┬───────────┬───────────┬───────────┬───┬───────────┬───────────┬───────────┬───────────┐\n",
       "│ match_id ┆ innings   ┆ batting_t ┆ bowling_t ┆ … ┆ extra_run ┆ total_run ┆ wicket_ty ┆ player_ou │\n",
       "│ ---      ┆ ---       ┆ eam       ┆ eam       ┆   ┆ s         ┆ s         ┆ pe        ┆ t         │\n",
       "│ str      ┆ str       ┆ ---       ┆ ---       ┆   ┆ ---       ┆ ---       ┆ ---       ┆ ---       │\n",
       "│          ┆           ┆ str       ┆ str       ┆   ┆ i64       ┆ i64       ┆ str       ┆ str       │\n",
       "╞══════════╪═══════════╪═══════════╪═══════════╪═══╪═══════════╪═══════════╪═══════════╪═══════════╡\n",
       "│ 65252    ┆ 1st       ┆ England   ┆ Namibia   ┆ … ┆ 0         ┆ 0         ┆ null      ┆ null      │\n",
       "│          ┆ innings   ┆           ┆           ┆   ┆           ┆           ┆           ┆           │\n",
       "│ 65252    ┆ 1st       ┆ England   ┆ Namibia   ┆ … ┆ 0         ┆ 0         ┆ null      ┆ null      │\n",
       "│          ┆ innings   ┆           ┆           ┆   ┆           ┆           ┆           ┆           │\n",
       "│ 65252    ┆ 1st       ┆ England   ┆ Namibia   ┆ … ┆ 0         ┆ 0         ┆ null      ┆ null      │\n",
       "│          ┆ innings   ┆           ┆           ┆   ┆           ┆           ┆           ┆           │\n",
       "│ 65252    ┆ 1st       ┆ England   ┆ Namibia   ┆ … ┆ 0         ┆ 1         ┆ null      ┆ null      │\n",
       "│          ┆ innings   ┆           ┆           ┆   ┆           ┆           ┆           ┆           │\n",
       "│ 65252    ┆ 1st       ┆ England   ┆ Namibia   ┆ … ┆ 0         ┆ 0         ┆ null      ┆ null      │\n",
       "│          ┆ innings   ┆           ┆           ┆   ┆           ┆           ┆           ┆           │\n",
       "│ …        ┆ …         ┆ …         ┆ …         ┆ … ┆ …         ┆ …         ┆ …         ┆ …         │\n",
       "│ 1160957  ┆ 2nd       ┆ Singapore ┆ Thailand  ┆ … ┆ 0         ┆ 2         ┆ null      ┆ null      │\n",
       "│          ┆ innings   ┆           ┆           ┆   ┆           ┆           ┆           ┆           │\n",
       "│ 1160957  ┆ 2nd       ┆ Singapore ┆ Thailand  ┆ … ┆ 0         ┆ 0         ┆ null      ┆ null      │\n",
       "│          ┆ innings   ┆           ┆           ┆   ┆           ┆           ┆           ┆           │\n",
       "│ 1160957  ┆ 2nd       ┆ Singapore ┆ Thailand  ┆ … ┆ 0         ┆ 1         ┆ null      ┆ null      │\n",
       "│          ┆ innings   ┆           ┆           ┆   ┆           ┆           ┆           ┆           │\n",
       "│ 1160957  ┆ 2nd       ┆ Singapore ┆ Thailand  ┆ … ┆ 0         ┆ 0         ┆ null      ┆ null      │\n",
       "│          ┆ innings   ┆           ┆           ┆   ┆           ┆           ┆           ┆           │\n",
       "│ 1160957  ┆ 2nd       ┆ Singapore ┆ Thailand  ┆ … ┆ 0         ┆ 6         ┆ null      ┆ null      │\n",
       "│          ┆ innings   ┆           ┆           ┆   ┆           ┆           ┆           ┆           │\n",
       "└──────────┴───────────┴───────────┴───────────┴───┴───────────┴───────────┴───────────┴───────────┘"
      ]
     },
     "execution_count": 48,
     "metadata": {},
     "output_type": "execute_result"
    }
   ],
   "source": [
    "(\n",
    "    pl.scan_parquet(\"../data/04_preprocessed/deliveries.parquet\")\n",
    "    .pipe(\n",
    "        lambda df: df.with_columns(\n",
    "            **{\n",
    "                c: when(col(c) == '').then(None).otherwise(col(c))\n",
    "                for c \n",
    "                in df.select(cs.string()).collect_schema().names()\n",
    "            }\n",
    "        )\n",
    "    )\n",
    "    .collect()\n",
    ")"
   ]
  },
  {
   "cell_type": "code",
   "execution_count": null,
   "metadata": {},
   "outputs": [],
   "source": []
  },
  {
   "cell_type": "code",
   "execution_count": null,
   "metadata": {},
   "outputs": [],
   "source": []
  },
  {
   "cell_type": "code",
   "execution_count": null,
   "metadata": {},
   "outputs": [],
   "source": []
  }
 ],
 "metadata": {
  "kernelspec": {
   "display_name": ".venv",
   "language": "python",
   "name": "python3"
  },
  "language_info": {
   "codemirror_mode": {
    "name": "ipython",
    "version": 3
   },
   "file_extension": ".py",
   "mimetype": "text/x-python",
   "name": "python",
   "nbconvert_exporter": "python",
   "pygments_lexer": "ipython3",
   "version": "3.12.8"
  }
 },
 "nbformat": 4,
 "nbformat_minor": 2
}
